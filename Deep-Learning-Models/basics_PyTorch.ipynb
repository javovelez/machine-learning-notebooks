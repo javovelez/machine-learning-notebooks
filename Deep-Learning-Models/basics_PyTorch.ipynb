{
 "cells": [
  {
   "cell_type": "markdown",
   "metadata": {},
   "source": [
    "# Basics [PyTorch]\n",
    "---\n",
    "- Author: Diego Inácio\n",
    "- GitHub: [github.com/diegoinacio](https://github.com/diegoinacio)\n",
    "- Notebook: [MCLR_PyTorch.ipynb](https://github.com/diegoinacio/machine-learning-notebooks/blob/master/Deep-Learning-Models/MCLR_PyTorch.ipynb)\n",
    "---\n",
    "Basic functions and operations using PyTorch library."
   ]
  },
  {
   "cell_type": "code",
   "execution_count": 1,
   "metadata": {},
   "outputs": [],
   "source": [
    "import numpy as np"
   ]
  },
  {
   "cell_type": "markdown",
   "metadata": {},
   "source": [
    "## Instalation\n",
    "---\n",
    "``` python\n",
    ">>> conda install -c pytorch pytorch\n",
    "```\n",
    "or\n",
    "``` python\n",
    ">>> pip install pytorch\n",
    "```"
   ]
  },
  {
   "cell_type": "code",
   "execution_count": 2,
   "metadata": {},
   "outputs": [],
   "source": [
    "import torch"
   ]
  },
  {
   "cell_type": "code",
   "execution_count": 3,
   "metadata": {},
   "outputs": [
    {
     "name": "stdout",
     "output_type": "stream",
     "text": [
      "tensor([[1.3733e-14, 6.4076e+07, 2.0706e-19, 7.3909e+22],\n",
      "        [2.4176e-12, 1.1625e+33, 8.9605e-01, 1.1632e+33],\n",
      "        [5.6003e-02, 7.0374e+22, 5.7453e-44, 0.0000e+00]]) torch.Size([3, 4]) torch.float32\n",
      "tensor([[ 0.,  1.,  2.,  3.],\n",
      "        [ 4.,  5.,  6.,  7.],\n",
      "        [ 8.,  9., 10., 11.]]) torch.Size([3, 4]) torch.float32\n"
     ]
    }
   ],
   "source": [
    "# un-initialized tensor\n",
    "a = torch.Tensor(3, 4)\n",
    "# initialized tensor\n",
    "b = torch.Tensor(np.arange(12).reshape(3, 4))\n",
    "\n",
    "print(a, a.shape, a.dtype)\n",
    "print(b, b.shape, b.dtype)"
   ]
  },
  {
   "cell_type": "markdown",
   "metadata": {},
   "source": [
    "## Sessions Objects and Output\n",
    "---"
   ]
  },
  {
   "cell_type": "code",
   "execution_count": 4,
   "metadata": {},
   "outputs": [
    {
     "name": "stdout",
     "output_type": "stream",
     "text": [
      "tensor([ 0., 11., 22., 33.])\n"
     ]
    }
   ],
   "source": [
    "a = torch.Tensor(np.arange(4))\n",
    "b = torch.Tensor(np.arange(4)*10)\n",
    "c = torch.add(a, b)\n",
    "print(c)"
   ]
  },
  {
   "cell_type": "code",
   "execution_count": 5,
   "metadata": {},
   "outputs": [
    {
     "name": "stdout",
     "output_type": "stream",
     "text": [
      "[ 0. 11. 22. 33.]\n"
     ]
    }
   ],
   "source": [
    "out = c.numpy()\n",
    "\n",
    "print(out)"
   ]
  },
  {
   "cell_type": "code",
   "execution_count": 6,
   "metadata": {},
   "outputs": [
    {
     "name": "stdout",
     "output_type": "stream",
     "text": [
      "[ 0. 11. 22. 33.]\n"
     ]
    }
   ],
   "source": [
    "out = torch.Tensor(a.shape)\n",
    "torch.add(a, b, out=out)\n",
    "out = out.numpy()\n",
    "\n",
    "print(out)"
   ]
  },
  {
   "cell_type": "markdown",
   "metadata": {},
   "source": [
    "## Basic Operations\n",
    "---"
   ]
  },
  {
   "cell_type": "code",
   "execution_count": 7,
   "metadata": {},
   "outputs": [],
   "source": [
    "s = 3                            # scalar\n",
    "v = torch.Tensor(np.arange(5))                # vactor n=5\n",
    "m = torch.Tensor(np.arange(20).reshape(4, 5)) # matrix 4 x 5"
   ]
  },
  {
   "cell_type": "code",
   "execution_count": 8,
   "metadata": {},
   "outputs": [
    {
     "name": "stdout",
     "output_type": "stream",
     "text": [
      "    S: 3\n",
      "V x S: [ 0.  3.  6.  9. 12.]\n",
      "M x S:\n",
      " [[ 0.  3.  6.  9. 12.]\n",
      " [15. 18. 21. 24. 27.]\n",
      " [30. 33. 36. 39. 42.]\n",
      " [45. 48. 51. 54. 57.]]\n"
     ]
    }
   ],
   "source": [
    "# print S\n",
    "print('    S:', s)\n",
    "\n",
    "# V x S product\n",
    "vs = v*s\n",
    "print('V x S:', vs.numpy())\n",
    "\n",
    "# M x S product\n",
    "ms = m*s\n",
    "print('M x S:\\n', ms.numpy())"
   ]
  },
  {
   "cell_type": "code",
   "execution_count": 9,
   "metadata": {},
   "outputs": [
    {
     "name": "stdout",
     "output_type": "stream",
     "text": [
      "    V: [0. 1. 2. 3. 4.]\n",
      "V x V: 30.0\n",
      "M x V: [ 30.  80. 130. 180.]\n"
     ]
    }
   ],
   "source": [
    "# print V\n",
    "print('    V:', v.numpy())\n",
    "\n",
    "# V x V > dot product\n",
    "vv = torch.dot(v, v)\n",
    "print('V x V:', vv.numpy())\n",
    "\n",
    "# M x V product\n",
    "mv = torch.mv(m, v)\n",
    "print('M x V:', mv.numpy())"
   ]
  },
  {
   "cell_type": "code",
   "execution_count": 10,
   "metadata": {},
   "outputs": [
    {
     "name": "stdout",
     "output_type": "stream",
     "text": [
      "     M:\n",
      " [[ 0.  1.  2.  3.  4.]\n",
      " [ 5.  6.  7.  8.  9.]\n",
      " [10. 11. 12. 13. 14.]\n",
      " [15. 16. 17. 18. 19.]]\n",
      "\n",
      "M x M1:\n",
      " [[ 90. 100. 110.]\n",
      " [240. 275. 310.]\n",
      " [390. 450. 510.]\n",
      " [540. 625. 710.]]\n"
     ]
    }
   ],
   "source": [
    "# print M\n",
    "print('     M:\\n', m.numpy())\n",
    "\n",
    "# M x M product\n",
    "m1 = torch.Tensor(np.arange(15).reshape(5, 3)) # the M1's dimensions are 5 x 3\n",
    "mm = torch.mm(m, m1)                           # the result dimensions must be 4 x 3\n",
    "\n",
    "print('\\nM x M1:\\n', mm.numpy())"
   ]
  }
 ],
 "metadata": {
  "kernelspec": {
   "display_name": "Python 3",
   "language": "python",
   "name": "python3"
  },
  "language_info": {
   "codemirror_mode": {
    "name": "ipython",
    "version": 3
   },
   "file_extension": ".py",
   "mimetype": "text/x-python",
   "name": "python",
   "nbconvert_exporter": "python",
   "pygments_lexer": "ipython3",
   "version": "3.7.7"
  }
 },
 "nbformat": 4,
 "nbformat_minor": 2
}
