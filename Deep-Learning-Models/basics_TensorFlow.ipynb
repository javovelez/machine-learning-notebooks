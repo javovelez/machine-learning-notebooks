{
 "cells": [
  {
   "cell_type": "markdown",
   "metadata": {},
   "source": [
    "# Basics [TensorFlow]\n",
    "---\n",
    "- Author: Diego Inácio\n",
    "- GitHub: [github.com/diegoinacio](https://github.com/diegoinacio)\n",
    "- Notebook: [basics_TensorFlow.ipynb](https://github.com/diegoinacio/machine-learning-notebooks/blob/master/Deep-Learning-Models/basics_TensorFlow.ipynb)\n",
    "---\n",
    "Basic functions and operations using TensorFlow library."
   ]
  },
  {
   "cell_type": "code",
   "execution_count": 1,
   "metadata": {},
   "outputs": [],
   "source": [
    "import numpy as np"
   ]
  },
  {
   "cell_type": "markdown",
   "metadata": {},
   "source": [
    "## Instalation\n",
    "---\n",
    "``` python\n",
    ">>> conda install -c conda-forge tensorflow\n",
    "```\n",
    "or\n",
    "``` python\n",
    ">>> pip install tensorflow\n",
    "```"
   ]
  },
  {
   "cell_type": "code",
   "execution_count": 2,
   "metadata": {},
   "outputs": [],
   "source": [
    "import tensorflow as tf"
   ]
  },
  {
   "cell_type": "code",
   "execution_count": 3,
   "metadata": {},
   "outputs": [
    {
     "name": "stdout",
     "output_type": "stream",
     "text": [
      "Tensor(\"a:0\", shape=(3, 4), dtype=float32) (3, 4) <dtype: 'float32'>\n",
      "Tensor(\"b:0\", shape=(3, 4), dtype=int32) (3, 4) <dtype: 'int32'>\n"
     ]
    }
   ],
   "source": [
    "# un-initialized tensor\n",
    "a = tf.placeholder(tf.float32, shape=(3, 4), name='a')\n",
    "# initialized tensor\n",
    "b = tf.constant(np.arange(12).reshape(3, 4), name='b')\n",
    "\n",
    "print(a, a.shape, a.dtype)\n",
    "print(b, b.shape, b.dtype)"
   ]
  },
  {
   "cell_type": "markdown",
   "metadata": {},
   "source": [
    "## Sessions Objects and Output\n",
    "---"
   ]
  },
  {
   "cell_type": "code",
   "execution_count": 4,
   "metadata": {},
   "outputs": [
    {
     "name": "stdout",
     "output_type": "stream",
     "text": [
      "Tensor(\"Add:0\", shape=(4,), dtype=int32)\n"
     ]
    }
   ],
   "source": [
    "a = tf.constant(np.arange(4), name='a')\n",
    "b = tf.constant(np.arange(4)*10, name='b')\n",
    "c = tf.add(a, b)\n",
    "print(c)"
   ]
  },
  {
   "cell_type": "code",
   "execution_count": 5,
   "metadata": {},
   "outputs": [
    {
     "name": "stdout",
     "output_type": "stream",
     "text": [
      "[ 0 11 22 33]\n"
     ]
    }
   ],
   "source": [
    "# Iteractive session\n",
    "sess = tf.InteractiveSession()\n",
    "out = c.eval()\n",
    "sess.close()\n",
    "\n",
    "print(out)"
   ]
  },
  {
   "cell_type": "code",
   "execution_count": 6,
   "metadata": {},
   "outputs": [
    {
     "name": "stdout",
     "output_type": "stream",
     "text": [
      "[ 0 11 22 33]\n"
     ]
    }
   ],
   "source": [
    "# Non-Iteractive session\n",
    "sess = tf.Session()\n",
    "out = c.eval(session=sess)\n",
    "sess.close()\n",
    "\n",
    "print(out)"
   ]
  },
  {
   "cell_type": "code",
   "execution_count": 7,
   "metadata": {},
   "outputs": [
    {
     "name": "stdout",
     "output_type": "stream",
     "text": [
      "[ 0 11 22 33]\n",
      "[ 0 11 22 33]\n"
     ]
    }
   ],
   "source": [
    "# Non-Iteractive session using context manager\n",
    "with tf.Session() as sess:\n",
    "    out1 = sess.run(c)\n",
    "    out2 = c.eval()\n",
    "\n",
    "print(out1)\n",
    "print(out2)"
   ]
  },
  {
   "cell_type": "markdown",
   "metadata": {},
   "source": [
    "### Un-initialized tensor and feed dictionary"
   ]
  },
  {
   "cell_type": "code",
   "execution_count": 8,
   "metadata": {},
   "outputs": [
    {
     "name": "stdout",
     "output_type": "stream",
     "text": [
      "7\n"
     ]
    }
   ],
   "source": [
    "a = tf.placeholder(tf.int32, name='a')\n",
    "b = tf.placeholder(tf.int32, name='b')\n",
    "c = tf.add(a, b)\n",
    "\n",
    "with tf.Session() as sess:\n",
    "    out = sess.run(c, feed_dict={a: 3, b: 4})\n",
    "\n",
    "print(out)"
   ]
  },
  {
   "cell_type": "markdown",
   "metadata": {},
   "source": [
    "## Basic Operations\n",
    "---"
   ]
  },
  {
   "cell_type": "code",
   "execution_count": 9,
   "metadata": {},
   "outputs": [],
   "source": [
    "s = tf.constant(3)                           # scalar\n",
    "v = tf.constant(np.arange(5))                # vactor n=5\n",
    "m = tf.constant(np.arange(20).reshape(4, 5)) # matrix 4 x 5"
   ]
  },
  {
   "cell_type": "code",
   "execution_count": 10,
   "metadata": {},
   "outputs": [
    {
     "name": "stdout",
     "output_type": "stream",
     "text": [
      "    S: 3\n",
      "V x S: [ 0  3  6  9 12]\n",
      "M x S:\n",
      " [[ 0  3  6  9 12]\n",
      " [15 18 21 24 27]\n",
      " [30 33 36 39 42]\n",
      " [45 48 51 54 57]]\n"
     ]
    }
   ],
   "source": [
    "# print S\n",
    "with tf.Session() as sess:\n",
    "    print('    S:', sess.run(s))\n",
    "\n",
    "# V x S product\n",
    "vs = tf.multiply(v, s) # could be v*s as well\n",
    "with tf.Session() as sess:\n",
    "    print('V x S:', sess.run(vs))\n",
    "\n",
    "# M x S product\n",
    "ms = tf.multiply(m, s) # could be m*s as well\n",
    "with tf.Session() as sess:\n",
    "    print('M x S:\\n', sess.run(ms))"
   ]
  },
  {
   "cell_type": "code",
   "execution_count": 11,
   "metadata": {},
   "outputs": [
    {
     "name": "stdout",
     "output_type": "stream",
     "text": [
      "    V: [0 1 2 3 4]\n",
      "V x V: 30\n",
      "M x V: [ 30  80 130 180]\n"
     ]
    }
   ],
   "source": [
    "# print V\n",
    "with tf.Session() as sess:\n",
    "    print('    V:', sess.run(v))\n",
    "\n",
    "# V x V > dot product\n",
    "vv = tf.tensordot(v, v, axes=1)\n",
    "with tf.Session() as sess:\n",
    "    print('V x V:', sess.run(vv))\n",
    "\n",
    "# M x V product\n",
    "mv = tf.tensordot(m, v, axes=1)\n",
    "with tf.Session() as sess:\n",
    "    print('M x V:', sess.run(mv))"
   ]
  },
  {
   "cell_type": "code",
   "execution_count": 12,
   "metadata": {},
   "outputs": [
    {
     "name": "stdout",
     "output_type": "stream",
     "text": [
      "     M:\n",
      " [[ 0  1  2  3  4]\n",
      " [ 5  6  7  8  9]\n",
      " [10 11 12 13 14]\n",
      " [15 16 17 18 19]]\n",
      "\n",
      "M x M1:\n",
      " [[ 90 100 110]\n",
      " [240 275 310]\n",
      " [390 450 510]\n",
      " [540 625 710]]\n"
     ]
    }
   ],
   "source": [
    "# print M\n",
    "with tf.Session() as sess:\n",
    "    print('     M:\\n', sess.run(m))\n",
    "\n",
    "# M x M product\n",
    "m1 = tf.constant(np.arange(15).reshape(5, 3)) # the M1's dimensions are 5 x 3\n",
    "mm = tf.matmul(m, m1)                         # the result dimensions must be 4 x 3\n",
    "\n",
    "with tf.Session() as sess:\n",
    "    print('\\nM x M1:\\n', sess.run(mm))"
   ]
  }
 ],
 "metadata": {
  "kernelspec": {
   "display_name": "Python 3",
   "language": "python",
   "name": "python3"
  },
  "language_info": {
   "codemirror_mode": {
    "name": "ipython",
    "version": 3
   },
   "file_extension": ".py",
   "mimetype": "text/x-python",
   "name": "python",
   "nbconvert_exporter": "python",
   "pygments_lexer": "ipython3",
   "version": "3.7.7"
  }
 },
 "nbformat": 4,
 "nbformat_minor": 2
}
